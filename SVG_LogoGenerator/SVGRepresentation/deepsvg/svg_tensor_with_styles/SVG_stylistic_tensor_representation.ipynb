{
 "cells": [
  {
   "cell_type": "code",
   "execution_count": 1,
   "metadata": {
    "pycharm": {
     "is_executing": true
    }
   },
   "outputs": [],
   "source": [
    "%load_ext autoreload\n",
    "%autoreload 2"
   ]
  },
  {
   "cell_type": "code",
   "execution_count": 2,
   "metadata": {},
   "outputs": [],
   "source": [
    "import os\n",
    "os.chdir(\"..\")"
   ]
  },
  {
   "cell_type": "code",
   "execution_count": 3,
   "metadata": {},
   "outputs": [],
   "source": [
    "from svg_colored import SVG_colored\n",
    "\n",
    "\n"
   ]
  },
  {
   "cell_type": "markdown",
   "metadata": {},
   "source": [
    "#### To access the file in example below your current working directory must now be  : .../SVG_LogoGenerator/SVGRepresentation/deepsvg"
   ]
  },
  {
   "cell_type": "code",
   "execution_count": 4,
   "metadata": {},
   "outputs": [],
   "source": [
    "# Instantiate SVG object with style features\n",
    "svg_colored = SVG_colored()\n",
    "\n",
    "# Read from path \n",
    "svg_colored.load_svg_colored(\n",
    "    \"./svg_tensor_with_styles/bec_paths_only.svg\"\n",
    ")\n"
   ]
  },
  {
   "cell_type": "markdown",
   "metadata": {},
   "source": [
    "#### SVG to stylistic tensor representation\n",
    "\n"
   ]
  },
  {
   "cell_type": "code",
   "execution_count": 9,
   "metadata": {},
   "outputs": [
    {
     "data": {
      "text/plain": [
       "torch.Size([58, 17])"
      ]
     },
     "execution_count": 9,
     "metadata": {},
     "output_type": "execute_result"
    }
   ],
   "source": [
    "svg_tensor = svg_colored.to_tensor_full()\n",
    "svg_tensor.shape"
   ]
  },
  {
   "cell_type": "markdown",
   "metadata": {},
   "source": [
    "#### From stylistic tensor representation to SVG string "
   ]
  },
  {
   "cell_type": "code",
   "execution_count": 10,
   "metadata": {},
   "outputs": [
    {
     "data": {
      "text/plain": [
       "'<svg xmlns=\"http://www.w3.org/2000/svg\" viewBox=\"0.0 0.0 500.0 500.0\" height=\"200px\" width=\"200px\"><path fill=\"#005596\" stroke=\"black\" stroke-width=\".3\" stroke-opacity=\"1.0\"  filling=\"0\" d=\"M142.2760009765625 68.4000015258789 L98.31500244140625 68.4000015258789 L98.31500244140625 48.41299819946289 L137.822998046875 48.41299819946289 L137.822998046875 34.481998443603516 L98.31500244140625 34.481998443603516 L98.31500244140625 17.014999389648438 L141.36399841308594 17.014999389648438 L141.36399841308594 1.940999984741211 L80.38700103759766 1.940999984741211 L80.38700103759766 83.47200012207031 L142.2760009765625 83.47200012207031 Z\"></path><path fill=\"#005596\" stroke=\"black\" stroke-width=\".3\" stroke-opacity=\"1.0\"  filling=\"0\" d=\"M190.91900634765625 85.41100311279297 C210.90000915527344 85.41100311279297 224.94500732421875 72.39300537109375 226.77200317382812 52.070003509521484 L209.41700744628906 52.070003509521484 C208.04701232910156 62.798004150390625 201.88101196289062 70.33900451660156 190.92001342773438 70.33900451660156 C174.81800842285156 70.33900451660156 168.76800537109375 56.63500213623047 168.76800537109375 43.04900360107422 C168.76800537109375 28.774003982543945 174.81900024414062 15.071002960205078 190.92001342773438 15.071002960205078 C199.82701110839844 15.071002960205078 207.5910186767578 21.236003875732422 208.73301696777344 29.34400177001953 L226.08901977539062 29.34400177001953 C223.9199981689453 10.503999710083008 208.84500122070312 0.0 190.91900634765625 0.0 C165.6820068359375 0.0 150.8400115966797 18.84000015258789 150.8400115966797 43.04899978637695 C150.83999633789062 66.56700134277344 165.6820068359375 85.41100311279297 190.91900634765625 85.41100311279297 Z\"></path><path fill=\"#005596\" stroke=\"black\" stroke-width=\".3\" stroke-opacity=\"1.0\"  filling=\"0\" d=\"M68.28399658203125 59.83399963378906 C68.28399658203125 49.672000885009766 63.25999450683594 42.02000045776367 53.32499694824219 39.16699981689453 C60.40299606323242 35.73999786376953 64.40299987792969 30.14299964904785 64.40299987792969 22.150999069213867 C64.40299987792969 6.96299934387207 53.89900207519531 1.940999984741211 38.36800003051758 1.940999984741211 L0.0 1.940999984741211 L0.0 83.47100067138672 L39.51100158691406 83.47100067138672 C54.237998962402344 83.47200012207031 68.28399658203125 76.39199829101562 68.28399658203125 59.83399963378906 Z M17.92799949645996 15.869999885559082 L34.7130012512207 15.869999885559082 C41.10700225830078 15.869999885559082 47.04600143432617 17.47100067138672 47.04600143432617 25.23400115966797 C47.04600143432617 32.0880012512207 42.36199951171875 34.93800354003906 36.082000732421875 34.93800354003906 L17.92799949645996 34.93800354003906 L17.92799949645996 15.869999885559082 Z M17.92799949645996 69.54000091552734 L17.92799949645996 47.15700149536133 L37.45199966430664 47.15700149536133 C45.10099792480469 47.15700149536133 50.35599899291992 50.470001220703125 50.35599899291992 58.805999755859375 C50.35599899291992 67.25399780273438 44.19099807739258 69.53900146484375 37.111000061035156 69.53900146484375 L17.92799949645996 69.53900146484375 Z\"></path><path fill=\"#a61e31\" stroke=\"black\" stroke-width=\".3\" stroke-opacity=\"1.0\"  filling=\"0\" d=\"M0.0 104.19400024414062 L226.76300048828125 104.19400024414062 L226.76300048828125 124.89199829101562 L0.0 124.89199829101562 L0.0 104.19400024414062 Z\"></path></svg>'"
      ]
     },
     "execution_count": 10,
     "metadata": {},
     "output_type": "execute_result"
    }
   ],
   "source": [
    "# from stylistic tensor to svg string  \n",
    "svg_string = svg_colored.from_tensor_to_svg_string(svg_tensor)\n",
    "svg_string"
   ]
  }
 ],
 "metadata": {
  "kernelspec": {
   "display_name": "Python 3",
   "language": "python",
   "name": "python3"
  },
  "language_info": {
   "codemirror_mode": {
    "name": "ipython",
    "version": 3
   },
   "file_extension": ".py",
   "mimetype": "text/x-python",
   "name": "python",
   "nbconvert_exporter": "python",
   "pygments_lexer": "ipython3",
   "version": "3.7.3"
  }
 },
 "nbformat": 4,
 "nbformat_minor": 2
}
