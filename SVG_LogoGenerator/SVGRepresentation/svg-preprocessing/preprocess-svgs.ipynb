{
 "cells": [
  {
   "cell_type": "markdown",
   "source": [
    "## This notebook can be used to preprocess SVGs.\n",
    "\n",
    "This notebook requires a GUI to work.\n",
    "\n",
    "It should be run using the environment created from the requirements.txt file in the SVGRepresentation folder.\n",
    "\n",
    "The following code expects the folder 'SVG_Data' to be in the same directory as the cloned project repository.\n",
    "```\n",
    "parent/\n",
    "    ├── SVG_Data\n",
    "    └── SVG_LogoGenerator\n",
    "```\n",
    "If this is not the case on your machine make sure to\n",
    "* set the correct path to the SVG_Data folder in the first cell of this notebook.\n",
    "\n",
    "Outputs will be written to the `SVG_Data` folder under `SVGs_transforms_removed`\n",
    "```\n",
    "parent/\n",
    "    └── SVG_Data\n",
    "    \t├── SVGs_transforms_removed/WorldVector_no_transforms\n",
    "    \t├── SVGs_transforms_removed/WorldVector_preprocessed\n",
    "    └── SVG_LogoGenerator\n",
    "```\n"
   ],
   "metadata": {
    "collapsed": false,
    "pycharm": {
     "name": "#%% md\n"
    }
   }
  },
  {
   "cell_type": "code",
   "execution_count": 20,
   "outputs": [],
   "source": [
    "datafolder = \"../../../SVG_Data/\""
   ],
   "metadata": {
    "collapsed": false,
    "pycharm": {
     "name": "#%%\n"
    }
   }
  },
  {
   "cell_type": "code",
   "execution_count": 21,
   "outputs": [],
   "source": [
    "import os\n",
    "import sys\n",
    "\n",
    "sys.path.insert(0, \"../deepsvg\")\n",
    "sys.path.insert(0, \"../../animate_logos_main_adapted\")\n",
    "\n",
    "from inkscape_batch_remove import inkscape_remove_transform\n",
    "from concurrent import futures\n",
    "import glob\n",
    "from tqdm import tqdm\n",
    "\n",
    "from SVGRepresentation.deepsvg.deepsvg.svglib.svg import SVG\n",
    "\n",
    "from animate_logos_main_adapted.src.preprocessing.sort_paths import Selector"
   ],
   "metadata": {
    "collapsed": false,
    "pycharm": {
     "name": "#%%\n"
    }
   }
  },
  {
   "cell_type": "markdown",
   "source": [
    "## Helpers:"
   ],
   "metadata": {
    "collapsed": false
   }
  },
  {
   "cell_type": "code",
   "execution_count": 22,
   "outputs": [],
   "source": [
    "NUM_WORKERS = 32\n",
    "\n",
    "MSE_MIN_ACCURACY = 0.98\n",
    "\n",
    "SVG_MAX_GROUPS = 30\n",
    "SVG_MAX_COMMANDS = 200"
   ],
   "metadata": {
    "collapsed": false,
    "pycharm": {
     "name": "#%%\n"
    }
   }
  },
  {
   "cell_type": "code",
   "execution_count": 23,
   "outputs": [],
   "source": [
    "def create_dir(directory: str) -> str:\n",
    "    os.makedirs(directory, exist_ok=True)\n",
    "    return directory"
   ],
   "metadata": {
    "collapsed": false,
    "pycharm": {
     "name": "#%%\n"
    }
   }
  },
  {
   "cell_type": "code",
   "execution_count": 24,
   "outputs": [],
   "source": [
    "input_folder_path = os.path.abspath(os.path.join(datafolder, 'raw/WorldVector/Worldvector'))\n",
    "no_transforms_path = create_dir(os.path.abspath(os.path.join(datafolder, 'SVGs_transforms_removed/WorldVector_no_transforms')))\n",
    "output_folder_path = create_dir(os.path.abspath(os.path.join(datafolder, 'SVGs_transforms_removed/WorldVector_preprocessed')))\n",
    "\n",
    "temp_folder_path = create_dir(os.path.abspath(os.path.join(datafolder, 'temp')))\n"
   ],
   "metadata": {
    "collapsed": false,
    "pycharm": {
     "name": "#%%\n"
    }
   }
  },
  {
   "cell_type": "code",
   "execution_count": 25,
   "outputs": [],
   "source": [
    "def remove_paths_mse(svg_file: str, mse_threshold: float) -> str:\n",
    "    truncated_svgs_directory = create_dir(os.path.join(temp_folder_path,'truncated_svgs'))\n",
    "    selector = Selector(\n",
    "        input_folder_path,\n",
    "        create_dir(os.path.join(temp_folder_path,'path_selection')),\n",
    "        truncated_svgs_directory\n",
    "    )\n",
    "\n",
    "    filename_without_ending = os.path.basename(svg_file)[:-4]\n",
    "    filenames_list = [filename_without_ending]\n",
    "\n",
    "    selector.delete_paths_in_logos(filenames_list)\n",
    "    selector.truncate_svgs(input_folder_path, filenames_list, coverage_percent=mse_threshold)\n",
    "\n",
    "    truncated_svg_file_name = os.path.join(truncated_svgs_directory, f'{filename_without_ending}_truncated.svg')\n",
    "    return truncated_svg_file_name"
   ],
   "metadata": {
    "collapsed": false,
    "pycharm": {
     "name": "#%%\n"
    }
   }
  },
  {
   "cell_type": "code",
   "execution_count": 26,
   "outputs": [],
   "source": [
    "def read_file_content(file_path: str) -> str:\n",
    "    with open(file_path, \"r\") as f:\n",
    "        return f.read()"
   ],
   "metadata": {
    "collapsed": false,
    "pycharm": {
     "name": "#%%\n"
    }
   }
  },
  {
   "cell_type": "code",
   "execution_count": 27,
   "outputs": [],
   "source": [
    "def write_file_content(file_path: str, content: str):\n",
    "    with open(file_path, \"w\") as f:\n",
    "        f.write(content)"
   ],
   "metadata": {
    "collapsed": false,
    "pycharm": {
     "name": "#%%\n"
    }
   }
  },
  {
   "cell_type": "code",
   "execution_count": 28,
   "outputs": [],
   "source": [
    "def preprocess_svg(svg_content: str) -> SVG:\n",
    "    svg = SVG.from_str(svg_content)\n",
    "    svg.fill_(False)\n",
    "    svg.to_path()\n",
    "    svg.normalize()\n",
    "    svg.zoom(0.9)\n",
    "    svg.canonicalize()\n",
    "    svg = svg.simplify_heuristic()\n",
    "    return svg"
   ],
   "metadata": {
    "collapsed": false,
    "pycharm": {
     "name": "#%%\n"
    }
   }
  },
  {
   "cell_type": "code",
   "execution_count": 29,
   "outputs": [],
   "source": [
    "def should_process_svg(svg: SVG) -> bool:\n",
    "    return svg.total_length() <= SVG_MAX_COMMANDS and len(svg.svg_path_groups) <= SVG_MAX_GROUPS"
   ],
   "metadata": {
    "collapsed": false,
    "pycharm": {
     "name": "#%%\n"
    }
   }
  },
  {
   "cell_type": "code",
   "execution_count": 30,
   "outputs": [],
   "source": [
    "def has_transform(svg: str) -> bool:\n",
    "    return \"transform\" in svg"
   ],
   "metadata": {
    "collapsed": false,
    "pycharm": {
     "name": "#%%\n"
    }
   }
  },
  {
   "cell_type": "code",
   "execution_count": 31,
   "outputs": [],
   "source": [
    "def process_svg(input_file, no_transforms_folder, output_folder):\n",
    "    filename = os.path.basename(input_file)\n",
    "    no_transforms_file = os.path.join(no_transforms_folder, filename)\n",
    "    output_file = os.path.join(output_folder, filename)\n",
    "\n",
    "    if os.path.exists(output_file):\n",
    "        return True\n",
    "\n",
    "    svg_file_mse_removed = remove_paths_mse(input_file, MSE_MIN_ACCURACY)\n",
    "    svg_mse_removed = read_file_content(svg_file_mse_removed)\n",
    "\n",
    "    svg_mse_preprocessed = preprocess_svg(svg_mse_removed)\n",
    "\n",
    "    if not should_process_svg(svg_mse_preprocessed):\n",
    "        # print(\"File %s contains too many groups (%d) or commands (%d)\" % (input_file, len(svg_mse_preprocessed.svg_path_groups), svg_mse_preprocessed.total_length()))\n",
    "        return False\n",
    "\n",
    "    write_file_content(no_transforms_file, svg_mse_removed)\n",
    "\n",
    "    if has_transform(svg_mse_removed):\n",
    "        inkscape_remove_transform(no_transforms_file, no_transforms_file)\n",
    "        svg_no_transform = read_file_content(no_transforms_file)\n",
    "        svg_mse_preprocessed = preprocess_svg(svg_no_transform)\n",
    "\n",
    "    # write final file\n",
    "    svg_mse_preprocessed.save_svg(output_file)\n",
    "    return True"
   ],
   "metadata": {
    "collapsed": false,
    "pycharm": {
     "name": "#%%\n"
    }
   }
  },
  {
   "cell_type": "code",
   "execution_count": 32,
   "outputs": [],
   "source": [
    "def process_directory(input_folder, no_transforms_folder, output_folder, skip_first=0):\n",
    "    svg_files = glob.glob(os.path.join(input_folder, \"**.svg\"))\n",
    "\n",
    "    # sort by file size\n",
    "    print(\"Sorting input files by size...\")\n",
    "    sorted_svg_files = sorted(svg_files, key=lambda x: os.stat(x).st_size)\n",
    "    sorted_svg_files = sorted_svg_files[skip_first:]\n",
    "    print(\"Finished sorting, start processing...\")\n",
    "\n",
    "    with tqdm(total=len(sorted_svg_files)) as pbar:\n",
    "\n",
    "        with futures.ThreadPoolExecutor(max_workers=NUM_WORKERS) as executor:\n",
    "            all_futures = []\n",
    "\n",
    "            for svg_file in sorted_svg_files:\n",
    "                all_futures.append(executor.submit(process_svg, svg_file, no_transforms_folder, output_folder))\n",
    "\n",
    "            print(\"added all futures...\")\n",
    "\n",
    "            for _ in futures.as_completed(all_futures):\n",
    "                pbar.update(1)\n"
   ],
   "metadata": {
    "collapsed": false,
    "pycharm": {
     "name": "#%%\n"
    }
   }
  },
  {
   "cell_type": "markdown",
   "source": [
    "# Execution"
   ],
   "metadata": {
    "collapsed": false,
    "pycharm": {
     "name": "#%% md\n"
    }
   }
  },
  {
   "cell_type": "markdown",
   "source": [
    "## Run single file (for testing)"
   ],
   "metadata": {
    "collapsed": false,
    "pycharm": {
     "name": "#%% md\n"
    }
   }
  },
  {
   "cell_type": "code",
   "execution_count": 33,
   "outputs": [
    {
     "data": {
      "text/plain": "True"
     },
     "execution_count": 33,
     "metadata": {},
     "output_type": "execute_result"
    }
   ],
   "source": [
    "process_svg(os.path.join(datafolder,'raw/SVG_Logo/1-1.svg'), no_transforms_path, output_folder_path)"
   ],
   "metadata": {
    "collapsed": false,
    "pycharm": {
     "name": "#%%\n"
    }
   }
  },
  {
   "cell_type": "markdown",
   "source": [
    "## Run directory"
   ],
   "metadata": {
    "collapsed": false,
    "pycharm": {
     "name": "#%% md\n"
    }
   }
  },
  {
   "cell_type": "code",
   "execution_count": 13,
   "outputs": [
    {
     "name": "stdout",
     "output_type": "stream",
     "text": [
      "Sorting input files by size...\n"
     ]
    },
    {
     "name": "stderr",
     "output_type": "stream",
     "text": [
      "  0%|          | 0/89678 [00:00<?, ?it/s]"
     ]
    },
    {
     "name": "stdout",
     "output_type": "stream",
     "text": [
      "Finished sorting, start processing...\n",
      "added all futures...\n"
     ]
    },
    {
     "name": "stderr",
     "output_type": "stream",
     "text": [
      "100%|██████████| 89678/89678 [31:32:33<00:00,  1.27s/it]   \n"
     ]
    }
   ],
   "source": [
    "process_directory(input_folder_path, no_transforms_path, output_folder_path, skip_first=16961 + 32)"
   ],
   "metadata": {
    "collapsed": false,
    "pycharm": {
     "name": "#%%\n"
    }
   }
  },
  {
   "cell_type": "code",
   "execution_count": null,
   "outputs": [],
   "source": [],
   "metadata": {
    "collapsed": false,
    "pycharm": {
     "name": "#%%\n"
    }
   }
  }
 ],
 "metadata": {
  "kernelspec": {
   "name": "python3",
   "language": "python",
   "display_name": "Python 3"
  },
  "language_info": {
   "codemirror_mode": {
    "name": "ipython",
    "version": 2
   },
   "file_extension": ".py",
   "mimetype": "text/x-python",
   "name": "python",
   "nbconvert_exporter": "python",
   "pygments_lexer": "ipython2",
   "version": "2.7.6"
  }
 },
 "nbformat": 4,
 "nbformat_minor": 0
}