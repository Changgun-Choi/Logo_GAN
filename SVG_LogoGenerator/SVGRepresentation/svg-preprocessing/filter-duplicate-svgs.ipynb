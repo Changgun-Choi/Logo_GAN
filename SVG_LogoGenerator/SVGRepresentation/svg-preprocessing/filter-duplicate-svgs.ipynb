{
 "cells": [
  {
   "cell_type": "markdown",
   "source": [
    "## This notebook can be used to filter duplicate SVGs based on their content\n",
    "\n",
    "It should be run using the environment created from the requirements.txt file in the SVGRepresentation folder.\n",
    "\n",
    "The following code expects the folder 'SVG_Data' to be in the same directory as the cloned project repository.\n",
    "\n",
    "```\n",
    "parent\n",
    "    ├── SVG_Data\n",
    "    └── SVG_LogoGenerator\n",
    "```\n",
    "\n",
    "If this is not the case on your machine make sure to\n",
    "* set the correct path to the SVG_Data folder in the first cell of this notebook.\n",
    "\n",
    "The script will process the directory specified in variable `input_folder_path`. By default this is `SVG_Data/raw/SVG_Logo/SVG_Logo`.\n",
    "\n",
    "Outputs will be written to the path specified in variable `output_folder_path`. By default, this is `SVG_Data/raw/SVG_Logo/SVG_Logo_filtered`"
   ],
   "metadata": {
    "collapsed": false,
    "pycharm": {
     "name": "#%% md\n"
    }
   }
  },
  {
   "cell_type": "code",
   "execution_count": 13,
   "outputs": [],
   "source": [
    "datafolder = \"../../../SVG_Data/\""
   ],
   "metadata": {
    "collapsed": false,
    "pycharm": {
     "name": "#%%\n"
    }
   }
  },
  {
   "cell_type": "markdown",
   "source": [
    "### Helper Functions:"
   ],
   "metadata": {
    "collapsed": false,
    "pycharm": {
     "name": "#%% md\n"
    }
   }
  },
  {
   "cell_type": "code",
   "execution_count": 18,
   "outputs": [],
   "source": [
    "import os\n",
    "from typing import List, Dict\n",
    "\n",
    "from concurrent import futures\n",
    "import glob\n",
    "from tqdm import tqdm\n",
    "\n",
    "from collections import defaultdict"
   ],
   "metadata": {
    "collapsed": false,
    "pycharm": {
     "name": "#%%\n"
    }
   }
  },
  {
   "cell_type": "code",
   "execution_count": 19,
   "outputs": [],
   "source": [
    "NUM_WORKERS = 16"
   ],
   "metadata": {
    "collapsed": false,
    "pycharm": {
     "name": "#%%\n"
    }
   }
  },
  {
   "cell_type": "code",
   "execution_count": 20,
   "outputs": [],
   "source": [
    "def create_dir(directory: str) -> str:\n",
    "    os.makedirs(directory, exist_ok=True)\n",
    "    return directory"
   ],
   "metadata": {
    "collapsed": false,
    "pycharm": {
     "name": "#%%\n"
    }
   }
  },
  {
   "cell_type": "code",
   "execution_count": 21,
   "outputs": [],
   "source": [
    "input_folder_path = os.path.abspath(os.path.join(datafolder, 'raw/SVG_Logo/SVG_Logo'))\n",
    "output_folder_path = create_dir(os.path.abspath(os.path.join(datafolder, 'raw/SVG_Logo/SVG_Logo_filtered')))"
   ],
   "metadata": {
    "collapsed": false,
    "pycharm": {
     "name": "#%%\n"
    }
   }
  },
  {
   "cell_type": "code",
   "execution_count": 22,
   "outputs": [],
   "source": [
    "def read_file_content(file_path: str) -> str:\n",
    "    with open(file_path, \"r\") as f:\n",
    "        return f.read()"
   ],
   "metadata": {
    "collapsed": false,
    "pycharm": {
     "name": "#%%\n"
    }
   }
  },
  {
   "cell_type": "code",
   "execution_count": 23,
   "outputs": [],
   "source": [
    "def write_file_content(file_path: str, content: str):\n",
    "    with open(file_path, \"w\") as f:\n",
    "        f.write(content)"
   ],
   "metadata": {
    "collapsed": false,
    "pycharm": {
     "name": "#%%\n"
    }
   }
  },
  {
   "cell_type": "code",
   "execution_count": 24,
   "outputs": [],
   "source": [
    "def filter_equal_svgs(input_files: List[str], output_folder: str):\n",
    "    all_files_with_contents = list(map(lambda file: (file, read_file_content(file)), input_files))\n",
    "\n",
    "    all_files_with_contents.sort(key=lambda file_with_content: file_with_content[1])\n",
    "\n",
    "    last_content = \"\"\n",
    "\n",
    "    for file, content in all_files_with_contents:\n",
    "        if content == last_content:\n",
    "            continue\n",
    "\n",
    "        last_content = content\n",
    "\n",
    "        filename = os.path.basename(file)\n",
    "        output_file = os.path.join(output_folder, filename)\n",
    "        write_file_content(output_file, content)"
   ],
   "metadata": {
    "collapsed": false,
    "pycharm": {
     "name": "#%%\n"
    }
   }
  },
  {
   "cell_type": "code",
   "execution_count": 25,
   "outputs": [],
   "source": [
    "def group_files_by_size(files: List[str]) -> Dict[int, List[str]]:\n",
    "    grouped = defaultdict(list)\n",
    "\n",
    "    for file in files:\n",
    "        file_size = os.stat(file).st_size\n",
    "        grouped[file_size].append(file)\n",
    "\n",
    "    return grouped"
   ],
   "metadata": {
    "collapsed": false,
    "pycharm": {
     "name": "#%%\n"
    }
   }
  },
  {
   "cell_type": "code",
   "execution_count": 26,
   "outputs": [],
   "source": [
    "def process_directory(input_folder, output_folder):\n",
    "    svg_files = glob.glob(os.path.join(input_folder, \"**.svg\"))\n",
    "\n",
    "    print(f\"Grouping {len(svg_files)} input files by size...\")\n",
    "    svgs_by_size = group_files_by_size(svg_files)\n",
    "    print(f\"Finished grouping. Got {len(svgs_by_size)} groups, start processing...\")\n",
    "\n",
    "    with tqdm(total=len(svgs_by_size)) as pbar:\n",
    "\n",
    "        with futures.ThreadPoolExecutor(max_workers=NUM_WORKERS) as executor:\n",
    "            all_futures = []\n",
    "\n",
    "            for svg_files in svgs_by_size.values():\n",
    "                all_futures.append(executor.submit(filter_equal_svgs, svg_files, output_folder))\n",
    "\n",
    "            print(\"added all futures...\")\n",
    "\n",
    "            for _ in futures.as_completed(all_futures):\n",
    "                pbar.update(1)\n"
   ],
   "metadata": {
    "collapsed": false,
    "pycharm": {
     "name": "#%%\n"
    }
   }
  },
  {
   "cell_type": "markdown",
   "source": [
    "# Execution"
   ],
   "metadata": {
    "collapsed": false,
    "pycharm": {
     "name": "#%% md\n"
    }
   }
  },
  {
   "cell_type": "markdown",
   "source": [
    "## Run single file (for testing)"
   ],
   "metadata": {
    "collapsed": false,
    "pycharm": {
     "name": "#%% md\n"
    }
   }
  },
  {
   "cell_type": "code",
   "execution_count": 27,
   "outputs": [],
   "source": [
    "filter_equal_svgs([\n",
    "    os.path.join(input_folder_path, \"postman-icon.svg\"),\n",
    "    os.path.join(input_folder_path, \"postman-icon.svg\")\n",
    "], output_folder_path)"
   ],
   "metadata": {
    "collapsed": false,
    "pycharm": {
     "name": "#%%\n"
    }
   }
  },
  {
   "cell_type": "markdown",
   "source": [
    "## Run directory"
   ],
   "metadata": {
    "collapsed": false,
    "pycharm": {
     "name": "#%% md\n"
    }
   }
  },
  {
   "cell_type": "code",
   "execution_count": 10,
   "outputs": [
    {
     "name": "stdout",
     "output_type": "stream",
     "text": [
      "Grouping 67680 input files by size...\n"
     ]
    },
    {
     "name": "stderr",
     "output_type": "stream",
     "text": [
      "  0%|          | 1/8731 [00:00<24:36,  5.91it/s]"
     ]
    },
    {
     "name": "stdout",
     "output_type": "stream",
     "text": [
      "Finished grouping. Got 8731 groups, start processing...\n",
      "added all futures...\n"
     ]
    },
    {
     "name": "stderr",
     "output_type": "stream",
     "text": [
      "100%|██████████| 8731/8731 [14:15<00:00, 10.20it/s]  \n"
     ]
    }
   ],
   "source": [
    "process_directory(input_folder_path, output_folder_path)"
   ],
   "metadata": {
    "collapsed": false,
    "pycharm": {
     "name": "#%%\n"
    }
   }
  }
 ],
 "metadata": {
  "kernelspec": {
   "name": "python3",
   "language": "python",
   "display_name": "Python 3"
  },
  "language_info": {
   "codemirror_mode": {
    "name": "ipython",
    "version": 2
   },
   "file_extension": ".py",
   "mimetype": "text/x-python",
   "name": "python",
   "nbconvert_exporter": "python",
   "pygments_lexer": "ipython2",
   "version": "2.7.6"
  }
 },
 "nbformat": 4,
 "nbformat_minor": 0
}