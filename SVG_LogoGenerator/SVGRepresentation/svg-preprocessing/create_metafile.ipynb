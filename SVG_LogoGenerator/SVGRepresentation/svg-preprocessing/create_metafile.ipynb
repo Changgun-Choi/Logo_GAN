{
 "cells": [
  {
   "cell_type": "markdown",
   "source": [
    "## This notebook can be used to create the DeepSVG meta file for a dataset.\n",
    "\n",
    "It should be run using the environment created from the requirements.txt file in the SVGRepresentation folder.\n",
    "\n",
    "The following code expects the folder 'SVG_Data' to be in the same directory as the cloned project repository.\n",
    "\n",
    "```\n",
    "parent\n",
    "    ├── SVG_Data\n",
    "    └── SVG_LogoGenerator\n",
    "```\n",
    "\n",
    "If this is not the case on your machine make sure to\n",
    "* set the correct path to the SVG_Data folder in the first cell of this notebook.\n",
    "\n",
    "Outputs will be written to the path specified in variable `output_meta_file_folder`. By default, this is `SVG_Data/data_for_training_deepsvg_model/WorldVector_SVGLogo_preprocessed_filtered_combined_meta`"
   ],
   "metadata": {
    "collapsed": false,
    "pycharm": {
     "name": "#%% md\n"
    }
   }
  },
  {
   "cell_type": "code",
   "execution_count": 1,
   "outputs": [],
   "source": [
    "datafolder = \"../../../SVG_Data/\""
   ],
   "metadata": {
    "collapsed": false,
    "pycharm": {
     "name": "#%%\n"
    }
   }
  },
  {
   "cell_type": "code",
   "execution_count": 2,
   "outputs": [],
   "source": [
    "import glob\n",
    "import logging\n",
    "import os\n",
    "import sys\n",
    "from concurrent import futures\n",
    "\n",
    "import pandas as pd\n",
    "from tqdm import tqdm\n",
    "\n",
    "sys.path.insert(0, \"../deepsvg\")\n",
    "from SVGRepresentation.deepsvg.deepsvg.svglib.svg import SVG"
   ],
   "metadata": {
    "collapsed": false,
    "pycharm": {
     "name": "#%%\n"
    }
   }
  },
  {
   "cell_type": "code",
   "execution_count": 3,
   "outputs": [],
   "source": [
    "processed_svgs_folder = os.path.join(datafolder, \"data_for_training_deepsvg_model/WorldVector_SVGLogo_preprocessed_filtered_combined\")\n",
    "output_meta_file_folder = os.path.join(datafolder, 'data_for_training_deepsvg_model/WorldVector_SVGLogo_preprocessed_filtered_combined_meta')\n",
    "\n",
    "os.makedirs(output_meta_file_folder, exist_ok=True)\n",
    "\n",
    "NUM_WORKERS = 32"
   ],
   "metadata": {
    "collapsed": false,
    "pycharm": {
     "name": "#%%\n"
    }
   }
  },
  {
   "cell_type": "markdown",
   "source": [
    "## Helper functions"
   ],
   "metadata": {
    "collapsed": false,
    "pycharm": {
     "name": "#%% md\n"
    }
   }
  },
  {
   "cell_type": "code",
   "execution_count": 4,
   "outputs": [],
   "source": [
    "def get_svg_stats(svg_file):\n",
    "    filename = os.path.splitext(os.path.basename(svg_file))[0]\n",
    "\n",
    "    try:\n",
    "        svg = SVG.load_svg(svg_file)\n",
    "\n",
    "        len_groups = [path_group.total_len() for path_group in svg.svg_path_groups]\n",
    "\n",
    "        return {\n",
    "            \"id\": filename,\n",
    "            \"total_len\": sum(len_groups),\n",
    "            \"nb_groups\": len(len_groups),\n",
    "            \"len_groups\": len_groups,\n",
    "            \"max_len_group\": max(len_groups)\n",
    "        }\n",
    "\n",
    "    except Exception:\n",
    "        print(\"No meta info produced for: \", svg_file)\n",
    "        return None"
   ],
   "metadata": {
    "collapsed": false,
    "pycharm": {
     "name": "#%%\n"
    }
   }
  },
  {
   "cell_type": "code",
   "execution_count": 5,
   "outputs": [],
   "source": [
    "def create_meta_file(processed_svgs_folder, output_meta_file_folder):\n",
    "    with futures.ThreadPoolExecutor(max_workers=NUM_WORKERS) as executor:\n",
    "        svg_files = glob.glob(os.path.join(processed_svgs_folder, \"*.svg\"))\n",
    "        meta_data = {}\n",
    "\n",
    "        with tqdm(total=len(svg_files)) as pbar:\n",
    "            preprocess_requests = [executor.submit(get_svg_stats, svg_file) for svg_file in svg_files]\n",
    "\n",
    "            for future in futures.as_completed(preprocess_requests):\n",
    "                pbar.update(1)\n",
    "\n",
    "                result = future.result()\n",
    "                if result is not None:\n",
    "                    meta_data[result[\"id\"]] = result\n",
    "\n",
    "    df = pd.DataFrame(meta_data.values())\n",
    "    df.to_csv(os.path.join(output_meta_file_folder, f\"meta_{len(df)}.csv\"), index=False)\n",
    "\n",
    "    logging.info(\"Meta file creation complete.\")"
   ],
   "metadata": {
    "collapsed": false,
    "pycharm": {
     "name": "#%%\n"
    }
   }
  },
  {
   "cell_type": "markdown",
   "source": [
    "## Create the meta file"
   ],
   "metadata": {
    "collapsed": false,
    "pycharm": {
     "name": "#%% md\n"
    }
   }
  },
  {
   "cell_type": "code",
   "execution_count": null,
   "outputs": [
    {
     "name": "stderr",
     "output_type": "stream",
     "text": [
      "  1%|          | 894/91783 [00:03<05:59, 252.81it/s]\n"
     ]
    },
    {
     "name": "stdout",
     "output_type": "stream",
     "text": [
      "No meta info produced for:  ../../../SVG_Data/data_for_training_deepsvg_model/WorldVector_SVGLogo_preprocessed_filtered_combined\\Alejo%20y%20Valentina.svg\n"
     ]
    }
   ],
   "source": [
    "create_meta_file(processed_svgs_folder, output_meta_file_folder)"
   ],
   "metadata": {
    "collapsed": false,
    "pycharm": {
     "name": "#%%\n",
     "is_executing": true
    }
   }
  },
  {
   "cell_type": "markdown",
   "source": [
    "## Show the stats for one logo:"
   ],
   "metadata": {
    "collapsed": false,
    "pycharm": {
     "name": "#%% md\n"
    }
   }
  },
  {
   "cell_type": "code",
   "execution_count": 7,
   "outputs": [
    {
     "data": {
      "text/plain": "{'id': 'postman-icon',\n 'total_len': 40,\n 'nb_groups': 5,\n 'len_groups': [15, 7, 5, 5, 8],\n 'max_len_group': 15}"
     },
     "execution_count": 7,
     "metadata": {},
     "output_type": "execute_result"
    }
   ],
   "source": [
    "get_svg_stats(os.path.join(processed_svgs_folder, \"postman-icon.svg\"))"
   ],
   "metadata": {
    "collapsed": false,
    "pycharm": {
     "name": "#%%\n"
    }
   }
  },
  {
   "cell_type": "code",
   "execution_count": null,
   "outputs": [],
   "source": [],
   "metadata": {
    "collapsed": false,
    "pycharm": {
     "name": "#%%\n"
    }
   }
  }
 ],
 "metadata": {
  "kernelspec": {
   "display_name": "Python 3",
   "language": "python",
   "name": "python3"
  },
  "language_info": {
   "codemirror_mode": {
    "name": "ipython",
    "version": 2
   },
   "file_extension": ".py",
   "mimetype": "text/x-python",
   "name": "python",
   "nbconvert_exporter": "python",
   "pygments_lexer": "ipython2",
   "version": "2.7.6"
  }
 },
 "nbformat": 4,
 "nbformat_minor": 0
}