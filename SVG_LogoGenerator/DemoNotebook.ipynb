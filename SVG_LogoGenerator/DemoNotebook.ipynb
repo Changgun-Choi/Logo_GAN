{
 "cells": [
  {
   "cell_type": "markdown",
   "metadata": {},
   "source": [
    "# Introduction\n",
    "## Description\n"
   ]
  },
  {
   "cell_type": "markdown",
   "metadata": {},
   "source": [
    "# Web Scraping\n",
    "## Description\n",
    "\n",
    "The web scraping part consists of two different scraping scripts that build up on the selenium framework. The selenium framework simulates a virtual browser which allows surpasssing blocking mechanisms provided by most of the websites and search engines.\n",
    "\n",
    "The first scraping script relies on the search results from the web and the wikipedia published SVG logos. The base for the searching builds a csv file which contains different company names for which the associated svg logos are searched from.\n",
    "\n",
    "The second scraping script relies on the [worldvector website](https://worldvectorlogo.com) which collects different svg logos associated to a company. The scraping script downloads the SVG logos alphabetically from the website."
   ]
  },
  {
   "cell_type": "markdown",
   "metadata": {},
   "source": [
    "## Web Scraping Wikipedia\n",
    "### Prerequesite\n",
    "1. Download Chromedriver from following website matching the installed Chrome Version from [here](https://chromedriver.chromium.org/downloads)\n",
    "2. Download company name dataset from [Kaggle](https://www.kaggle.com/datasets/peopledatalabssf/free-7-million-company-dataset)\n",
    "### Input\n",
    "- datasetPath: Path to kaggle dataset in format dir/.../file\n",
    "- webdriverPath: Path to Chromedriver in format dir/.../file\n",
    "- logPath: Path to desired logging file in format dir/.../file\n",
    "- destPath: Path to Folder where SVG Files should be stored in format dir/.../dir\n",
    "\n",
    "### Output\n",
    "- SVG File of scraped logo stored in specified destPath"
   ]
  },
  {
   "cell_type": "code",
   "execution_count": null,
   "metadata": {},
   "outputs": [],
   "source": [
    "from WebScraping.SVGWebScraper import wikipediaScraper\n",
    "wikipediaScrape = wikipediaScraper('Data/companies_sorted.csv', 'WebScraping/chromedriver',\n",
    "                                    'WebScraping/ErrorLog.txt', 'Data/SVGLogo')\n",
    "wikipediaScrape.scraper()\n"
   ]
  },
  {
   "cell_type": "markdown",
   "metadata": {},
   "source": [
    "## Web Scraping Worldvector\n",
    "### Prerequisite\n",
    "1. Download Chromedriver from following website matching the installed Chrome Version from [here](https://chromedriver.chromium.org/downloads)\n",
    "### Input\n",
    "- webdriverPath: Path to Chromedriver in format dir/.../file\n",
    "- destPath: Path to Folder where SVG Files should be stored in format dir/.../dir\n",
    "### Output\n",
    "- SVG File of scraped logo stored in specified destPath"
   ]
  },
  {
   "cell_type": "code",
   "execution_count": null,
   "metadata": {},
   "outputs": [],
   "source": [
    "from WebScraping.WorldvectorScraper import worldvectorScraper\n",
    "worldvectorScrape = worldvectorScraper(\n",
    "    'WebScraping/chromedriver', 'Data/Worldvector')\n",
    "worldvectorScrape.scraper()"
   ]
  },
  {
   "cell_type": "markdown",
   "metadata": {},
   "source": [
    "# Labelling\n",
    "\n",
    "## Description\n",
    "The labelling part consists in total of three different labelling strategies:\n",
    "1. Rule-based labelling\n",
    "2. Network-based labelling\n",
    "3. MLGCN"
   ]
  },
  {
   "cell_type": "markdown",
   "metadata": {},
   "source": [
    "## Rule-based labelling\n",
    "### Input\n",
    "- pngFolderPath: Folder Path consisting of png files in format dir/../dir\n",
    "- textAreaThreshold: Threshold to determine when label text is assigned to image(**default**: 0.55)\n",
    "- destPath: Path where label will be stored in pickle file in format dir/../file\n",
    "### Output\n",
    "- Pickle file where rule-based labelling is stored"
   ]
  },
  {
   "cell_type": "code",
   "execution_count": null,
   "metadata": {},
   "outputs": [],
   "source": [
    "from Labelling.RuleBasedLogoDetection import ruleLogoLabelling\n",
    "ruleLogo = ruleLogoLabelling('Data/PNGFolder', 0.55, 'Labelling/RuleBasedLogo.pkl')\n",
    "ruleLogo.ruleLabelling()"
   ]
  },
  {
   "cell_type": "markdown",
   "metadata": {},
   "source": [
    "## Google Vision API\n",
    "### Input\n",
    "- credentialsPath: Path to JSON credentials file in format dir/.../file\n",
    "- imagePath: Path to folder where images are located in format dir/.../dir\n",
    "- destPath: Path where generated Labels are stored\n",
    "### Output\n",
    "- CSV File containing the labels from the Google Cloud Vision API"
   ]
  },
  {
   "cell_type": "code",
   "execution_count": null,
   "metadata": {},
   "outputs": [],
   "source": [
    "from Labelling.GoogleVisionAPI import visionApi\n",
    "credentialsPath = ''\n",
    "imagePath = ''\n",
    "destPath = ''\n",
    "googleVision = visionApi(credentialsPath, imagePath, destPath)\n",
    "googleVision.api()"
   ]
  },
  {
   "cell_type": "markdown",
   "metadata": {},
   "source": [
    "## Network-based labelling\n",
    "### Input\n",
    "- inputPath: Path to image label dataset in format dir/.../file\n",
    "- graphConstruction: Boolean value if graph should be constructed (default must be **True**)\n",
    "- graphSimplify: Boolean value if graph should be simplified\n",
    "- graphClustering: Boolean value if graph should be clustered\n",
    "- graphVisualize: Boolean value if graph should be clustered\n",
    "### Output\n",
    "- Adjacency Matrix of graph in format pickle\n",
    "- Majority Vote CSV file from results of clustering\n",
    "- Weighted Majority Vote CSV file from results of clustering\n",
    "- Graph Visualization in format HTML"
   ]
  },
  {
   "cell_type": "code",
   "execution_count": null,
   "metadata": {},
   "outputs": [],
   "source": [
    "from Labelling.NetworkLabels import networkLabelling\n",
    "networkLabelling('FeatureCreation/LLD_GoogleLabels.csv',\n",
    "                 True, True, True, True, 'Labelling/logo_adj.pkl', False)"
   ]
  },
  {
   "cell_type": "markdown",
   "metadata": {},
   "source": [
    "## MLGCN\n",
    "### Prequesite\n",
    "1. Run networkLabelling method to create adjacency matrix beforehand (must match all considered labels, therefore consider not to simplify the constructed graph)\n",
    "2. Run word embedding method to transform used labels into vectorspace\n",
    "### Input\n",
    "- mlgcnSettings:\n",
    "    - data: Folder where image data is located in format dir/.../dir\n",
    "    - image_size: Size of image given as an Integer\n",
    "    - workers: number of workers used for dataloader \n",
    "    - epochs: Number of epochs to train\n",
    "    - epoch_step: Number of steps within epoch\n",
    "    - device_ids: GPU id on which the MLGCN model must be trained on\n",
    "    - lr: Learning rate\n",
    "    - lrp: Learning rate p\n",
    "    - momentum:\n",
    "    - weight_decay: Weight decay for the model\n",
    "    - print-freq: Frequency for log printing\n",
    "    - resume: Model Checkpoint in format dir/.../file\n",
    "    - evaluate: If the model needs to be put in evaluate format in format Boolean\n",
    "- dataPath: Dataset with extracted Google Vision API Labels in csv Format with path format dir/.../file\n",
    "- labelEmbeddingPath: Label embedding created from the label embedding method in pkl format\n",
    "- adjPath: Path to the network adjacency matrix created from the networkLabelling method\n",
    "- checkpointPath: Path to the logging folder in format dir/.../dir\n",
    "### Output\n",
    "- MLGCN Labelling file consisting of assigned cluster number in csv format"
   ]
  },
  {
   "cell_type": "code",
   "execution_count": null,
   "metadata": {},
   "outputs": [],
   "source": [
    "from Labelling.MLGCN.train import mlgcnTrain\n",
    "from Labelling.MLGCN.vectorCreation import mlgcnVector\n",
    "trainMLGCN = False\n",
    "mlgcnSettings = {\n",
    "    'data': 'LogoData/',\n",
    "    'image_size': 448,\n",
    "    'workers': 2,\n",
    "    'epochs': 20,\n",
    "    'epoch_step': 30,\n",
    "    'device_ids': 0,\n",
    "    'start_epoch': 0,\n",
    "    'batch_size': 8,\n",
    "    'lr': 0.1,\n",
    "    'lrp': 0.1,\n",
    "    'momentum': 0.9,\n",
    "    'weight_decay': 0.0001,\n",
    "    'print-freq': 10,\n",
    "    'resume': None,\n",
    "    'evaluate': '0'\n",
    "    }\n",
    "if trainMLGCN:\n",
    "    mlgcnTrain(mlgcnSettings, 'FeatureCreation/LLD_GoogleLabels.csv',\n",
    "               'FeatureCreation/logo_label_embedding.pkl', 'FeatureCreation/logo_adj.pkl', 'Labelling/MLGCN/Checkpoint')\n",
    "    mlgcnVector(mlgcnSettings, 'Labelling/MLGCN/Checkpoint/model_best.pth.tar', 'FeatureCreation/LLD_GoogleLabels.csv',\n",
    "                'FeatureCreation/logo_adj.pkl', 'Labelling/MLGCN/MLGCNLabelling.csv')\n",
    "else:\n",
    "    mlgcnVector(mlgcnSettings, 'Labelling/MLGCN/Checkpoint/model_best.pth.tar', 'FeatureCreation/LLD_GoogleLabels.csv',\n",
    "                'FeatureCreation/logo_adj.pkl', 'Labelling/MLGCN/MLGCNLabelling.csv')"
   ]
  },
  {
   "cell_type": "markdown",
   "metadata": {},
   "source": [
    "## Final Model\n",
    "### Description\n",
    "The following cell describes the final model which produces the results from the \n",
    "### Input\n",
    "- imageType: Describes the type of image used to output for the demonstration"
   ]
  },
  {
   "cell_type": "code",
   "execution_count": 7,
   "metadata": {},
   "outputs": [],
   "source": [
    "from ImageCombination.saliencyCombination import saliencyCombine\n",
    "from PNG_SVG_Conversion.PNGtoSVG import PNGtoSVGConv\n",
    "\n",
    "imageType = 'merge'\n",
    "if imageType == 'font':\n",
    "    !python Model/Font_svg/fontmerge.py University 0000\n",
    "elif imageType == 'icon':\n",
    "    # generate image\n",
    "    !python Model/GANs/StyleGAN2/stylegan2_ada_pytorch/generate.py - -class = 1 - -network = Model/GANs/StyleGAN2/network-snapshot-003400.pkl - -outdir = Model/GANs/StyleGAN2/results/Martin - -trunc = 1 - -seeds = 30\n",
    "    # transform to svg\n",
    "    PNGtoSVGConv('ImageCombination/TestResult/Test.png', 'ImageCombination/TestSVG/TestRes.png',\n",
    "                 'ImageCombination/TestSVG/quant.png', 'ImageCombination/TestSVG/svg.svg', '/Users/martinbockling/.cargo/bin/vtracer')\n",
    "\n",
    "elif imageType == 'merge':\n",
    "    # generate font\n",
    "    !python Model/Font_svg/fontmerge.py CNN 1420 png\n",
    "    # generate image\n",
    "    # !python Model/GANs/StyleGAN2/stylegan2_ada_pytorch/generate.py --class=1 --network=Model/GANs/StyleGAN2/network-snapshot-003400.pkl --outdir=Model/GANs/StyleGAN2/results/Martin --trunc=1 --seeds=30\n",
    "    # merge image\n",
    "    saliencyCombine(\n",
    "        'Model/GANs/generated_img/StyleGAN2/imagesMV/0/seed0104.png', 'CNN1420.png', 'ImageCombination/TestResult/Test.png', 'above', False)\n",
    "    # convert to svg\n",
    "    PNGtoSVGConv('ImageCombination/TestResult/Test.png', 'ImageCombination/TestSVG/TestRes.png',\n",
    "                 'ImageCombination/TestSVG/quant.png', 'ImageCombination/TestSVG/svg.svg', '/Users/martinbockling/.cargo/bin/vtracer')\n"
   ]
  }
 ],
 "metadata": {
  "interpreter": {
   "hash": "f76f8f009f61680e62bb367bf117d434bd86969d492ba0f91f5f25613cc087a0"
  },
  "kernelspec": {
   "display_name": "logogeneration",
   "language": "python",
   "name": "logogeneration"
  },
  "language_info": {
   "codemirror_mode": {
    "name": "ipython",
    "version": 3
   },
   "file_extension": ".py",
   "mimetype": "text/x-python",
   "name": "python",
   "nbconvert_exporter": "python",
   "pygments_lexer": "ipython3",
   "version": "3.9.2"
  },
  "orig_nbformat": 4
 },
 "nbformat": 4,
 "nbformat_minor": 2
}
